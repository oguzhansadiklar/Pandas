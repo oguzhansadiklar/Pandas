{
 "cells": [
  {
   "cell_type": "markdown",
   "id": "d8b99df6-4afe-478a-8608-c3ee743721e2",
   "metadata": {},
   "source": [
    "# Pandas "
   ]
  },
  {
   "cell_type": "markdown",
   "id": "b37128a4-9296-462d-b254-1993a4b9a9d3",
   "metadata": {},
   "source": [
    "# Pandas Serisi Oluşturmak"
   ]
  },
  {
   "cell_type": "code",
   "execution_count": 2,
   "id": "c754ba0f-14e2-43e5-8ce3-28e346248828",
   "metadata": {},
   "outputs": [],
   "source": [
    "import pandas as pd"
   ]
  },
  {
   "cell_type": "code",
   "execution_count": 3,
   "id": "9b375852-192d-4df8-85d7-ff189355a23e",
   "metadata": {},
   "outputs": [
    {
     "data": {
      "text/plain": [
       "0     24\n",
       "1     52\n",
       "2     55\n",
       "3     69\n",
       "4    232\n",
       "dtype: int64"
      ]
     },
     "execution_count": 3,
     "metadata": {},
     "output_type": "execute_result"
    }
   ],
   "source": [
    "pd.Series([24,52,55,69,232,])"
   ]
  },
  {
   "cell_type": "code",
   "execution_count": 4,
   "id": "f7040a83-7ea5-48da-8c29-cd8f4c82dcc3",
   "metadata": {},
   "outputs": [],
   "source": [
    "seri = pd.Series([24,52,55,69,232,])"
   ]
  },
  {
   "cell_type": "code",
   "execution_count": 5,
   "id": "2a4578ea-e143-44f0-93b8-797c69b3d548",
   "metadata": {},
   "outputs": [
    {
     "data": {
      "text/plain": [
       "pandas.core.series.Series"
      ]
     },
     "execution_count": 5,
     "metadata": {},
     "output_type": "execute_result"
    }
   ],
   "source": [
    "type(seri)"
   ]
  },
  {
   "cell_type": "code",
   "execution_count": 6,
   "id": "fbc3147b-a319-4f7c-96b3-bf9b53c3f50b",
   "metadata": {},
   "outputs": [
    {
     "data": {
      "text/plain": [
       "[RangeIndex(start=0, stop=5, step=1)]"
      ]
     },
     "execution_count": 6,
     "metadata": {},
     "output_type": "execute_result"
    }
   ],
   "source": [
    "seri.axes #index bilgisi"
   ]
  },
  {
   "cell_type": "code",
   "execution_count": 7,
   "id": "f6359568-0669-4768-ae5f-663b9bf65224",
   "metadata": {},
   "outputs": [
    {
     "data": {
      "text/plain": [
       "dtype('int64')"
      ]
     },
     "execution_count": 7,
     "metadata": {},
     "output_type": "execute_result"
    }
   ],
   "source": [
    "seri.dtype "
   ]
  },
  {
   "cell_type": "code",
   "execution_count": 8,
   "id": "59546340-0d3f-4c85-b28d-264ae8962792",
   "metadata": {},
   "outputs": [
    {
     "data": {
      "text/plain": [
       "5"
      ]
     },
     "execution_count": 8,
     "metadata": {},
     "output_type": "execute_result"
    }
   ],
   "source": [
    "seri.size #eleman sayısı"
   ]
  },
  {
   "cell_type": "code",
   "execution_count": 10,
   "id": "a1e73dfe-71c6-4024-a4d7-19e02160e760",
   "metadata": {},
   "outputs": [
    {
     "data": {
      "text/plain": [
       "1"
      ]
     },
     "execution_count": 10,
     "metadata": {},
     "output_type": "execute_result"
    }
   ],
   "source": [
    "seri.ndim #boyut bilgisi"
   ]
  },
  {
   "cell_type": "code",
   "execution_count": 11,
   "id": "1fb65d96-b228-4b28-a4be-230da1027be7",
   "metadata": {},
   "outputs": [
    {
     "data": {
      "text/plain": [
       "array([ 24,  52,  55,  69, 232], dtype=int64)"
      ]
     },
     "execution_count": 11,
     "metadata": {},
     "output_type": "execute_result"
    }
   ],
   "source": [
    "seri.values #Array formate değerleri verir"
   ]
  },
  {
   "cell_type": "code",
   "execution_count": 13,
   "id": "33a880b4-e57b-4706-84c9-c5f379368f5c",
   "metadata": {},
   "outputs": [
    {
     "data": {
      "text/plain": [
       "0     24\n",
       "1     52\n",
       "2     55\n",
       "3     69\n",
       "4    232\n",
       "dtype: int64"
      ]
     },
     "execution_count": 13,
     "metadata": {},
     "output_type": "execute_result"
    }
   ],
   "source": [
    "seri.head()  #ilk 5 gözlemini verir"
   ]
  },
  {
   "cell_type": "code",
   "execution_count": 15,
   "id": "0e6aca0e-c7df-4688-90a8-5917349ad86a",
   "metadata": {},
   "outputs": [
    {
     "data": {
      "text/plain": [
       "0     24\n",
       "1     52\n",
       "2     55\n",
       "3     69\n",
       "4    232\n",
       "dtype: int64"
      ]
     },
     "execution_count": 15,
     "metadata": {},
     "output_type": "execute_result"
    }
   ],
   "source": [
    "seri.tail() #sondan 5 görünümü verir"
   ]
  },
  {
   "cell_type": "markdown",
   "id": "42c9bcec-8c60-4405-854d-4103eec5ca68",
   "metadata": {},
   "source": [
    "# index isimlendirme"
   ]
  },
  {
   "cell_type": "code",
   "execution_count": 31,
   "id": "08fe193c-a044-413b-8899-7e7683f1d42d",
   "metadata": {},
   "outputs": [
    {
     "data": {
      "text/plain": [
       "1      24\n",
       "5      52\n",
       "10     55\n",
       "15     69\n",
       "20    232\n",
       "dtype: int64"
      ]
     },
     "execution_count": 31,
     "metadata": {},
     "output_type": "execute_result"
    }
   ],
   "source": [
    "pd.Series([24,52,55,69,232,], index= [1,5,10,15,20])"
   ]
  },
  {
   "cell_type": "code",
   "execution_count": 32,
   "id": "c367f75b-9f66-43fc-971b-2e080fe8f2b6",
   "metadata": {},
   "outputs": [
    {
     "data": {
      "text/plain": [
       "a     24\n",
       "b     52\n",
       "c     55\n",
       "d     69\n",
       "e    232\n",
       "dtype: int64"
      ]
     },
     "execution_count": 32,
     "metadata": {},
     "output_type": "execute_result"
    }
   ],
   "source": [
    "pd.Series([24,52,55,69,232,], index= [\"a\",\"b\",\"c\",\"d\",\"e\"])"
   ]
  },
  {
   "cell_type": "code",
   "execution_count": 39,
   "id": "4eabd6d6-faaf-4b75-8e24-5f8c0f26ec8b",
   "metadata": {},
   "outputs": [],
   "source": [
    "seri = pd.Series([24,52,55,69,232], index= [\"a\",\"b\",\"c\",\"d\",\"e\"])"
   ]
  },
  {
   "cell_type": "code",
   "execution_count": 35,
   "id": "2d62f690-5290-4f56-8da7-80287a908dbb",
   "metadata": {},
   "outputs": [
    {
     "data": {
      "text/plain": [
       "24"
      ]
     },
     "execution_count": 35,
     "metadata": {},
     "output_type": "execute_result"
    }
   ],
   "source": [
    "seri[\"a\"]  #seçim işlemleri"
   ]
  },
  {
   "cell_type": "code",
   "execution_count": 38,
   "id": "e0d3db8d-2182-417b-87f6-4f7dcf7f6bd5",
   "metadata": {},
   "outputs": [
    {
     "data": {
      "text/plain": [
       "a    24\n",
       "b    52\n",
       "c    55\n",
       "dtype: int64"
      ]
     },
     "execution_count": 38,
     "metadata": {},
     "output_type": "execute_result"
    }
   ],
   "source": [
    "seri[\"a\":\"c\"] #slice seçim işlemi"
   ]
  },
  {
   "cell_type": "code",
   "execution_count": null,
   "id": "7bfdd988-8a61-4180-a61b-3525f73c0238",
   "metadata": {},
   "outputs": [],
   "source": [
    "# dictionary üzerinden liste oluşturma"
   ]
  },
  {
   "cell_type": "code",
   "execution_count": 42,
   "id": "e261aebd-3dcd-4dd7-8b77-fe161128d32b",
   "metadata": {},
   "outputs": [],
   "source": [
    "dict = {\"reg\":10, \"log\":11, \"cart\":12}"
   ]
  },
  {
   "cell_type": "code",
   "execution_count": 43,
   "id": "9f3b807c-b57b-4e6f-a3d5-8832d87856d9",
   "metadata": {},
   "outputs": [],
   "source": [
    "dict = pd.Series(dict)"
   ]
  },
  {
   "cell_type": "code",
   "execution_count": 44,
   "id": "7ec0463e-7ad6-4a35-b510-af416a3b7232",
   "metadata": {},
   "outputs": [
    {
     "data": {
      "text/plain": [
       "reg     10\n",
       "log     11\n",
       "cart    12\n",
       "dtype: int64"
      ]
     },
     "execution_count": 44,
     "metadata": {},
     "output_type": "execute_result"
    }
   ],
   "source": [
    "dict"
   ]
  },
  {
   "cell_type": "code",
   "execution_count": null,
   "id": "710ca80f-007b-48a7-b821-f2852e3e68fe",
   "metadata": {},
   "outputs": [],
   "source": [
    "#iki veriyi birleştirme"
   ]
  },
  {
   "cell_type": "code",
   "execution_count": 45,
   "id": "63bb429a-b172-43d1-a253-1c4073b3e76d",
   "metadata": {},
   "outputs": [
    {
     "data": {
      "text/plain": [
       "reg     10\n",
       "log     11\n",
       "cart    12\n",
       "reg     10\n",
       "log     11\n",
       "cart    12\n",
       "dtype: int64"
      ]
     },
     "execution_count": 45,
     "metadata": {},
     "output_type": "execute_result"
    }
   ],
   "source": [
    "pd.concat([dict,dict])"
   ]
  },
  {
   "cell_type": "markdown",
   "id": "608b2603-3edd-4d20-b160-3d59831e25a2",
   "metadata": {},
   "source": [
    "# Eleman İşlemleri"
   ]
  },
  {
   "cell_type": "code",
   "execution_count": 47,
   "id": "1dd5aebf-21f1-4be8-a894-84f26649d154",
   "metadata": {},
   "outputs": [],
   "source": [
    "seri = pd.Series([122,515,554,55], index = [\"a\",\"b\",\"c\",\"d\"])"
   ]
  },
  {
   "cell_type": "code",
   "execution_count": 48,
   "id": "d142d9a6-4b1f-4a00-a1f8-cb8c042f4abc",
   "metadata": {},
   "outputs": [
    {
     "data": {
      "text/plain": [
       "a    122\n",
       "b    515\n",
       "c    554\n",
       "d     55\n",
       "dtype: int64"
      ]
     },
     "execution_count": 48,
     "metadata": {},
     "output_type": "execute_result"
    }
   ],
   "source": [
    "seri"
   ]
  },
  {
   "cell_type": "code",
   "execution_count": 49,
   "id": "8eea1f9c-080c-48dc-b74e-f6e08cdb6216",
   "metadata": {},
   "outputs": [
    {
     "data": {
      "text/plain": [
       "Index(['a', 'b', 'c', 'd'], dtype='object')"
      ]
     },
     "execution_count": 49,
     "metadata": {},
     "output_type": "execute_result"
    }
   ],
   "source": [
    "seri.index"
   ]
  },
  {
   "cell_type": "code",
   "execution_count": 50,
   "id": "a60a5840-0332-44fb-acc8-654fac7ab0a2",
   "metadata": {},
   "outputs": [
    {
     "data": {
      "text/plain": [
       "<bound method Series.keys of a    122\n",
       "b    515\n",
       "c    554\n",
       "d     55\n",
       "dtype: int64>"
      ]
     },
     "execution_count": 50,
     "metadata": {},
     "output_type": "execute_result"
    }
   ],
   "source": [
    "seri.keys"
   ]
  },
  {
   "cell_type": "code",
   "execution_count": 52,
   "id": "b2dbfe83-5c4e-4a54-87d0-cf4cdc0094f7",
   "metadata": {},
   "outputs": [
    {
     "data": {
      "text/plain": [
       "[('a', 122), ('b', 515), ('c', 554), ('d', 55)]"
      ]
     },
     "execution_count": 52,
     "metadata": {},
     "output_type": "execute_result"
    }
   ],
   "source": [
    "list(seri.items())"
   ]
  },
  {
   "cell_type": "code",
   "execution_count": 53,
   "id": "7a109ad2-fa0d-46d7-bc43-12e133af8a5b",
   "metadata": {},
   "outputs": [
    {
     "data": {
      "text/plain": [
       "array([122, 515, 554,  55], dtype=int64)"
      ]
     },
     "execution_count": 53,
     "metadata": {},
     "output_type": "execute_result"
    }
   ],
   "source": [
    "seri.values"
   ]
  },
  {
   "cell_type": "code",
   "execution_count": null,
   "id": "b864739c-daff-4382-b078-b15e9a2d5bc4",
   "metadata": {},
   "outputs": [],
   "source": [
    "#eleman sorgulama"
   ]
  },
  {
   "cell_type": "code",
   "execution_count": 54,
   "id": "a22ff7da-044a-4a43-90a5-18efb4c0da78",
   "metadata": {},
   "outputs": [
    {
     "data": {
      "text/plain": [
       "True"
      ]
     },
     "execution_count": 54,
     "metadata": {},
     "output_type": "execute_result"
    }
   ],
   "source": [
    "\"a\" in seri"
   ]
  },
  {
   "cell_type": "code",
   "execution_count": 55,
   "id": "9375ba61-ba2c-4eff-beb1-ef6cc5d097a1",
   "metadata": {},
   "outputs": [
    {
     "data": {
      "text/plain": [
       "122"
      ]
     },
     "execution_count": 55,
     "metadata": {},
     "output_type": "execute_result"
    }
   ],
   "source": [
    "seri[\"a\"]"
   ]
  },
  {
   "cell_type": "code",
   "execution_count": 56,
   "id": "763620a0-4075-4ccc-80a7-4907a90d355d",
   "metadata": {},
   "outputs": [],
   "source": [
    "seri[\"a\"] = 5 #elemana değer atama"
   ]
  },
  {
   "cell_type": "code",
   "execution_count": 57,
   "id": "6fc85739-1a3c-4b05-b991-6c199a9a8ad8",
   "metadata": {},
   "outputs": [
    {
     "data": {
      "text/plain": [
       "5"
      ]
     },
     "execution_count": 57,
     "metadata": {},
     "output_type": "execute_result"
    }
   ],
   "source": [
    "seri[\"a\"]"
   ]
  },
  {
   "cell_type": "code",
   "execution_count": 58,
   "id": "dfc6a25b-032c-48f9-8f7b-85e9ab984a4b",
   "metadata": {},
   "outputs": [
    {
     "data": {
      "text/plain": [
       "a      5\n",
       "b    515\n",
       "c    554\n",
       "dtype: int64"
      ]
     },
     "execution_count": 58,
     "metadata": {},
     "output_type": "execute_result"
    }
   ],
   "source": [
    "seri[\"a\":\"c\"]"
   ]
  },
  {
   "cell_type": "code",
   "execution_count": null,
   "id": "9c2e58a1-d0b5-476c-b444-bbbbb2c25d84",
   "metadata": {},
   "outputs": [],
   "source": []
  },
  {
   "cell_type": "code",
   "execution_count": null,
   "id": "27f9ceaa-3026-44f2-a5b6-ae69b698ab43",
   "metadata": {},
   "outputs": [],
   "source": []
  },
  {
   "cell_type": "code",
   "execution_count": null,
   "id": "84edaec4-1fca-47e7-bf70-8dfa4746cb5d",
   "metadata": {},
   "outputs": [],
   "source": []
  },
  {
   "cell_type": "code",
   "execution_count": null,
   "id": "bef693c1-033f-4a58-bf57-d72950275e50",
   "metadata": {},
   "outputs": [],
   "source": []
  },
  {
   "cell_type": "code",
   "execution_count": null,
   "id": "cf713d8f-887a-4a4a-9d07-1236735650ba",
   "metadata": {},
   "outputs": [],
   "source": []
  },
  {
   "cell_type": "code",
   "execution_count": null,
   "id": "5bc1a8ec-0350-4e5e-a6ee-1310b1965b70",
   "metadata": {},
   "outputs": [],
   "source": []
  },
  {
   "cell_type": "code",
   "execution_count": null,
   "id": "29388ce1-0aeb-4f48-938c-e9fbf3fe1228",
   "metadata": {},
   "outputs": [],
   "source": []
  },
  {
   "cell_type": "code",
   "execution_count": null,
   "id": "ffe22b1e-e9df-4778-bceb-0f2109effb20",
   "metadata": {},
   "outputs": [],
   "source": []
  },
  {
   "cell_type": "code",
   "execution_count": null,
   "id": "6ae52859-f99e-448f-8a56-6309f063b30d",
   "metadata": {},
   "outputs": [],
   "source": []
  },
  {
   "cell_type": "code",
   "execution_count": null,
   "id": "ff1c65d4-5b8d-4d92-a99e-3bec5650f5cd",
   "metadata": {},
   "outputs": [],
   "source": []
  },
  {
   "cell_type": "code",
   "execution_count": null,
   "id": "fd86c04c-323f-49f0-8a9e-1f65f24c1607",
   "metadata": {},
   "outputs": [],
   "source": []
  }
 ],
 "metadata": {
  "kernelspec": {
   "display_name": "Python 3 (ipykernel)",
   "language": "python",
   "name": "python3"
  },
  "language_info": {
   "codemirror_mode": {
    "name": "ipython",
    "version": 3
   },
   "file_extension": ".py",
   "mimetype": "text/x-python",
   "name": "python",
   "nbconvert_exporter": "python",
   "pygments_lexer": "ipython3",
   "version": "3.10.9"
  }
 },
 "nbformat": 4,
 "nbformat_minor": 5
}
